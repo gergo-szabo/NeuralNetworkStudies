{
 "cells": [
  {
   "cell_type": "markdown",
   "metadata": {},
   "source": [
    "## Setup"
   ]
  },
  {
   "cell_type": "code",
   "execution_count": 1,
   "metadata": {},
   "outputs": [],
   "source": [
    "import numpy as np\n",
    "from sklearn.utils import class_weight\n",
    "import tensorflow as tf"
   ]
  },
  {
   "cell_type": "code",
   "execution_count": 2,
   "metadata": {},
   "outputs": [],
   "source": [
    "def shuffle(a, b, seed):\n",
    "    'Shuffle two array in the same random order'\n",
    "    rand_state = np.random.RandomState(seed)\n",
    "    rand_state.shuffle(a)\n",
    "    rand_state.seed(seed)\n",
    "    rand_state.shuffle(b)"
   ]
  },
  {
   "cell_type": "code",
   "execution_count": 3,
   "metadata": {},
   "outputs": [],
   "source": [
    "class DataGenerator(tf.keras.utils.Sequence):\n",
    "    'Generates data for Keras'\n",
    "    def __init__(self, list_IDs, labels, batch_size=32, dim=(32,32,32),\n",
    "                 n_classes=10, shuffle=True):\n",
    "        'Initialization'\n",
    "        self.dim = dim\n",
    "        self.batch_size = batch_size\n",
    "        self.labels = labels\n",
    "        self.list_IDs = list_IDs\n",
    "        self.n_classes = n_classes\n",
    "        self.shuffle = shuffle\n",
    "        self.on_epoch_end()\n",
    "\n",
    "    def __len__(self):\n",
    "        'Denotes the number of batches per epoch'\n",
    "        return int(np.floor(len(self.list_IDs) / self.batch_size))\n",
    "\n",
    "    def __getitem__(self, index):\n",
    "        'Generate one batch of data'\n",
    "        # Generate indexes of the batch\n",
    "        indexes = self.indexes[index*self.batch_size:(index+1)*self.batch_size]\n",
    "\n",
    "        # Find list of IDs\n",
    "        list_IDs_temp = [self.list_IDs[k] for k in indexes]\n",
    "\n",
    "        # Generate data\n",
    "        X, y = self.__data_generation(list_IDs_temp)\n",
    "\n",
    "        return X, y\n",
    "\n",
    "    def on_epoch_end(self):\n",
    "        'Updates indexes after each epoch'\n",
    "        self.indexes = np.arange(len(self.list_IDs))\n",
    "        if self.shuffle == True:\n",
    "            np.random.shuffle(self.indexes)\n",
    "\n",
    "    def __data_generation(self, list_IDs_temp):\n",
    "        'Generates data containing batch_size samples'\n",
    "        # Initialization\n",
    "        X = np.empty((self.batch_size, *self.dim))\n",
    "        y = np.empty((self.batch_size), dtype=int)\n",
    "\n",
    "        # Generate data\n",
    "        for i, ID in enumerate(list_IDs_temp):\n",
    "            # Store sample\n",
    "            X[i,] = np.load('data/ID' + str(ID) + '.npy')\n",
    "\n",
    "            # Store class\n",
    "            y[i] = self.labels[ID]\n",
    "\n",
    "        return X, y"
   ]
  },
  {
   "cell_type": "code",
   "execution_count": 4,
   "metadata": {},
   "outputs": [
    {
     "name": "stdout",
     "output_type": "stream",
     "text": [
      "100\n"
     ]
    }
   ],
   "source": [
    "dummy_data = np.zeros((46, 501, 497, 13))\n",
    "sample_segment_dim = (15,15)\n",
    "\n",
    "# Calculate number of samples\n",
    "sample_number_per_column = dummy_data.shape[1] - sample_segment_dim[0] + 1\n",
    "sample_number_per_row = dummy_data.shape[2] - sample_segment_dim[1] + 1\n",
    "#sample_number = dummy_data.shape[0] * sample_number_per_column * sample_number_per_row\n",
    "sample_number = 100\n",
    "print(sample_number)"
   ]
  },
  {
   "cell_type": "code",
   "execution_count": 5,
   "metadata": {},
   "outputs": [],
   "source": [
    "ID_list = np.arange(sample_number)\n",
    "labels = np.zeros(sample_number)"
   ]
  },
  {
   "cell_type": "code",
   "execution_count": 6,
   "metadata": {},
   "outputs": [],
   "source": [
    "# Creating sample patches from the big images\n",
    "# Change this code to snip samples from the images!\n",
    "dummy_sample = np.zeros((15,15,13))\n",
    "for x in range(0, sample_number):\n",
    "    np.save('data/ID' + str(ID_list[x]) + '.npy', dummy_sample)"
   ]
  },
  {
   "cell_type": "code",
   "execution_count": 7,
   "metadata": {},
   "outputs": [],
   "source": [
    "# Creating the Training and Validation sets\n",
    "shuffle(ID_list, labels, 12045)\n",
    "\n",
    "validation_split = 0.2\n",
    "split_index = int((1-validation_split) * sample_number)\n",
    "\n",
    "train_ID_list = ID_list[:split_index]\n",
    "validation_ID_list = ID_list[split_index:]"
   ]
  },
  {
   "cell_type": "code",
   "execution_count": 8,
   "metadata": {
    "scrolled": false
   },
   "outputs": [
    {
     "name": "stdout",
     "output_type": "stream",
     "text": [
      "(None, 13, 13, 4)\n",
      "(None, 676)\n",
      "(None, 16)\n"
     ]
    }
   ],
   "source": [
    "# Create NN model\n",
    "model = tf.keras.Sequential()\n",
    "model.add(tf.keras.layers.Conv2D(4, (3,3), strides=(1, 1), input_shape=(15,15,13)))\n",
    "print(model.output_shape)\n",
    "model.add(tf.keras.layers.Flatten())\n",
    "print(model.output_shape)\n",
    "model.add(tf.keras.layers.Dense(16))\n",
    "print(model.output_shape)\n",
    "model.add(tf.keras.layers.Dense(3, activation=\"softmax\"))\n",
    "model.compile(loss='sparse_categorical_crossentropy', optimizer='adam')"
   ]
  },
  {
   "cell_type": "code",
   "execution_count": 9,
   "metadata": {},
   "outputs": [],
   "source": [
    "# Initialize generators\n",
    "params = {'dim': (15,15,13),\n",
    "          'batch_size': 21,\n",
    "          'n_classes': 3,\n",
    "          'shuffle': True}\n",
    "training_generator = DataGenerator(train_ID_list, labels, **params)\n",
    "validation_generator = DataGenerator(validation_ID_list, labels, **params)"
   ]
  },
  {
   "cell_type": "code",
   "execution_count": 10,
   "metadata": {},
   "outputs": [
    {
     "name": "stdout",
     "output_type": "stream",
     "text": [
      "Epoch 1/3\n",
      "3/3 [==============================] - 0s 117ms/step - loss: 1.0912\n",
      "Epoch 2/3\n",
      "3/3 [==============================] - 0s 64ms/step - loss: 1.0554\n",
      "Epoch 3/3\n",
      "3/3 [==============================] - 0s 69ms/step - loss: 0.9895\n"
     ]
    },
    {
     "data": {
      "text/plain": [
       "<tensorflow.python.keras.callbacks.History at 0x26f9bb63780>"
      ]
     },
     "execution_count": 10,
     "metadata": {},
     "output_type": "execute_result"
    }
   ],
   "source": [
    "# Train model on dataset\n",
    "model.fit_generator(generator=training_generator,\n",
    "                    epochs=3,\n",
    "                    validation_data=validation_generator)"
   ]
  }
 ],
 "metadata": {
  "kernelspec": {
   "display_name": "Python 3",
   "language": "python",
   "name": "python3"
  },
  "language_info": {
   "codemirror_mode": {
    "name": "ipython",
    "version": 3
   },
   "file_extension": ".py",
   "mimetype": "text/x-python",
   "name": "python",
   "nbconvert_exporter": "python",
   "pygments_lexer": "ipython3",
   "version": "3.6.8"
  }
 },
 "nbformat": 4,
 "nbformat_minor": 2
}
