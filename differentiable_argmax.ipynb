{
 "cells": [
  {
   "cell_type": "markdown",
   "metadata": {},
   "source": [
    "### Differentiable argmax / Soft argmax"
   ]
  },
  {
   "cell_type": "code",
   "execution_count": 1,
   "metadata": {},
   "outputs": [
    {
     "name": "stderr",
     "output_type": "stream",
     "text": [
      "C:\\Users\\admin\\.conda\\envs\\datascience\\lib\\site-packages\\h5py\\__init__.py:36: FutureWarning: Conversion of the second argument of issubdtype from `float` to `np.floating` is deprecated. In future, it will be treated as `np.float64 == np.dtype(float).type`.\n",
      "  from ._conv import register_converters as _register_converters\n"
     ]
    }
   ],
   "source": [
    "import numpy as np\n",
    "import tensorflow as tf\n",
    "from tensorflow.keras.models import Model\n",
    "from tensorflow.keras.layers import Layer, Input, Dense, Conv1D, Reshape"
   ]
  },
  {
   "cell_type": "code",
   "execution_count": 2,
   "metadata": {},
   "outputs": [],
   "source": [
    "class DifferentiableArgmax(Layer):\n",
    "    '''\n",
    "    Differentiable argmax / Soft argmax\n",
    "    \n",
    "    Numerically stable in classical neural network value range (-3..3)\n",
    "    Likely to work between -6..6 but not fully tested\n",
    "    \n",
    "    For using with convolutional filters you might want to swap axes:\n",
    "    \n",
    "    c = Conv1D(4, 3) (input)\n",
    "    argmax = DifferentiableArgmax() (c)\n",
    "    argmax -> maximum of filters per width step (Which filter fire stronger at width steps?)\n",
    "    \n",
    "    vs\n",
    "    \n",
    "    c = Conv1D(4, 3) (input)\n",
    "    argmax = tf.transpose(c, perm=[0,2,1]) # (batch, width, filter) -> (batch, filter, width)\n",
    "    argmax = DifferentiableArgmax() (argmax)\n",
    "    argmax -> maximum in width dimension per filter (Where the filters fire strongest?)\n",
    "    '''\n",
    "    \n",
    "    def __init__(self):\n",
    "        pass\n",
    "    \n",
    "    def __call__(self, inputs):  \n",
    "        # Step 1: Scaling for numerical stability\n",
    "        # During step 2, the sum will never be zero\n",
    "        # Theoretically float related rounding error possible but neural networks don't use that value range.\n",
    "        scaling = tf.math.exp(inputs)\n",
    "        \n",
    "        # Step 2: Binarize input. Ideally highest value 1, everything else is zero.\n",
    "        # The 'binarized' variable might not be ideal after the first step if input values are close to each other.\n",
    "        # Solution is to repeat binarization function.\n",
    "        # Trying higher power im binarization function will result in numerical instability quickly.\n",
    "        def binarize(x):\n",
    "            # Step 1: Make small values smaller, high values higher\n",
    "            # Highest value will likely to be at least a magnitude higher than the rest.\n",
    "            a = tf.math.pow(x, 10) \n",
    "            # Step 2: Divide all value with the sum.\n",
    "            # Due to the magnitude difference the highest value / sum will be close to 1.\n",
    "            # Everything else will be closer to zero.\n",
    "            sum_a = tf.reduce_sum(a, axis=-1)\n",
    "            sum_a = tf.expand_dims(sum_a, axis=-1)\n",
    "            onehot = tf.divide(a, sum_a)            \n",
    "            return onehot\n",
    "        \n",
    "        binarized = binarize(scaling)\n",
    "        binarized = binarize(binarized)\n",
    "        binarized = binarize(binarized)\n",
    "        binarized = binarize(binarized)\n",
    "        binarized = binarize(binarized)\n",
    "        binarized = binarize(binarized)\n",
    "        \n",
    "        # Step 3: Get argmax of one-hot encoded input\n",
    "        cumsum = tf.cumsum(binarized, axis = -1, exclusive = True, reverse = True)\n",
    "        rounding = 2*(tf.clip_by_value(cumsum, clip_value_min=.5, clip_value_max=1) - .5)\n",
    "        token = tf.reduce_sum(rounding, axis = -1)\n",
    "        token = tf.expand_dims(token, axis=-1)\n",
    "        \n",
    "        return [inputs, token]"
   ]
  },
  {
   "cell_type": "markdown",
   "metadata": {},
   "source": [
    "#### Example: Dense layer"
   ]
  },
  {
   "cell_type": "code",
   "execution_count": 3,
   "metadata": {},
   "outputs": [
    {
     "name": "stdout",
     "output_type": "stream",
     "text": [
      "Input of argmax:\n",
      " [[ 1.6582605   0.7575089  -2.009025   -1.6150696 ]\n",
      " [ 0.82913023  0.37875444 -1.0045125  -0.8075348 ]\n",
      " [ 0.          0.          0.          0.        ]\n",
      " [-0.82913023 -0.37875444  1.0045125   0.8075348 ]\n",
      " [-1.6582605  -0.7575089   2.009025    1.6150696 ]]\n",
      "\n",
      "Output of argmax:\n",
      " [[0. ]\n",
      " [0. ]\n",
      " [0.5]\n",
      " [2. ]\n",
      " [2. ]]\n"
     ]
    }
   ],
   "source": [
    "# Model (for random values test)\n",
    "input0 =  Input((1))\n",
    "d = Dense(4, use_bias=False, name='output') (input0)\n",
    "argmax = DifferentiableArgmax()(d)\n",
    "model = Model(input0, [argmax])\n",
    "model.compile(optimizer='adam', loss='mae')\n",
    "#model.summary()\n",
    "\n",
    "# Random value test\n",
    "prediction = model.predict([-2, -1, 0, 1, 2])\n",
    "print('Input of argmax:\\n', prediction[0])\n",
    "print('\\nOutput of argmax:\\n', prediction[1])"
   ]
  },
  {
   "cell_type": "markdown",
   "metadata": {},
   "source": [
    "#### Example: Get indexes where convolutional filters fire"
   ]
  },
  {
   "cell_type": "code",
   "execution_count": 4,
   "metadata": {},
   "outputs": [
    {
     "name": "stdout",
     "output_type": "stream",
     "text": [
      "Input of argmax:\n",
      " [[[-0.31248814 -0.31088996  0.03930115 -0.49696922 -0.07191789]\n",
      "  [ 0.04657157 -0.10839222  0.26490483 -0.11642914  0.02724978]\n",
      "  [ 0.18337694  0.42130166 -0.03512901  0.2450471   0.32034644]\n",
      "  [-0.17251475 -0.12242899  0.03154935 -0.2943121   0.02682087]]\n",
      "\n",
      " [[-0.31248814 -0.31088996  0.03930115 -0.49696922 -0.07191789]\n",
      "  [ 0.04657157 -0.10839222  0.26490483 -0.11642914  0.02724978]\n",
      "  [ 0.18337694  0.42130166 -0.03512901  0.2450471   0.32034644]\n",
      "  [-0.17251475 -0.12242899  0.03154935 -0.2943121   0.02682087]]]\n",
      "\n",
      "Output of argmax:\n",
      " [[[2.]\n",
      "  [2.]\n",
      "  [1.]\n",
      "  [2.]]\n",
      "\n",
      " [[2.]\n",
      "  [2.]\n",
      "  [1.]\n",
      "  [2.]]]\n"
     ]
    }
   ],
   "source": [
    "timesteps = 7\n",
    "channels= 1\n",
    "\n",
    "# Model\n",
    "input0 =  Input((timesteps, channels))\n",
    "c = Conv1D(4, 3, padding='valid') (input0)\n",
    "argmax = tf.transpose(c, perm=[0,2,1]) # (batch, width, filter) -> (batch, filter, width)\n",
    "argmax = DifferentiableArgmax() (argmax)\n",
    "model = Model(input0, argmax)\n",
    "model.compile(optimizer='adam', loss='mse')\n",
    "#model.summary()\n",
    "\n",
    "# Print values\n",
    "samples = [[np.random.random_sample((timesteps,channels))] * 2]\n",
    "prediction = model.predict(samples)\n",
    "print('Input of argmax:\\n', prediction[0])\n",
    "print('\\nOutput of argmax:\\n', prediction[1])"
   ]
  },
  {
   "cell_type": "markdown",
   "metadata": {},
   "source": [
    "#### Shape test"
   ]
  },
  {
   "cell_type": "code",
   "execution_count": 5,
   "metadata": {},
   "outputs": [
    {
     "name": "stdout",
     "output_type": "stream",
     "text": [
      "x\n",
      "tf.Tensor([1. 4. 1. 1.], shape=(4,), dtype=float32)\n",
      "\n",
      "argmax\n",
      "tf.Tensor([1.], shape=(1,), dtype=float32)\n"
     ]
    }
   ],
   "source": [
    "x = tf.constant([1.0, 4.0, 1.0, 1.0])\n",
    "print('x')\n",
    "print(x)\n",
    "print()\n",
    "\n",
    "argmax = DifferentiableArgmax() (x)\n",
    "print('argmax')\n",
    "print(argmax[1])"
   ]
  },
  {
   "cell_type": "code",
   "execution_count": 6,
   "metadata": {},
   "outputs": [
    {
     "name": "stdout",
     "output_type": "stream",
     "text": [
      "x\n",
      "tf.Tensor(\n",
      "[[1. 4. 1. 1.]\n",
      " [1. 1. 1. 2.]], shape=(2, 4), dtype=float32)\n",
      "\n",
      "argmax\n",
      "tf.Tensor(\n",
      "[[1.]\n",
      " [3.]], shape=(2, 1), dtype=float32)\n"
     ]
    }
   ],
   "source": [
    "x = tf.constant([[1.0, 4.0, 1.0, 1.0], [1.0, 1.0, 1.0, 2.0]])\n",
    "print('x')\n",
    "print(x)\n",
    "print()\n",
    "\n",
    "argmax = DifferentiableArgmax() (x)\n",
    "print('argmax')\n",
    "print(argmax[1])"
   ]
  },
  {
   "cell_type": "code",
   "execution_count": 7,
   "metadata": {},
   "outputs": [
    {
     "name": "stdout",
     "output_type": "stream",
     "text": [
      "x\n",
      "tf.Tensor(\n",
      "[[[1. 4. 1. 1.]\n",
      "  [1. 4. 1. 1.]]\n",
      "\n",
      " [[1. 4. 1. 1.]\n",
      "  [1. 1. 1. 2.]]], shape=(2, 2, 4), dtype=float32)\n",
      "\n",
      "argmax\n",
      "tf.Tensor(\n",
      "[[[1.]\n",
      "  [1.]]\n",
      "\n",
      " [[1.]\n",
      "  [3.]]], shape=(2, 2, 1), dtype=float32)\n"
     ]
    }
   ],
   "source": [
    "x = tf.constant([[[1.0, 4.0, 1.0, 1.0], [1.0, 4.0, 1.0, 1.0]],\n",
    "                 [[1.0, 4.0, 1.0, 1.0], [1.0, 1.0, 1.0, 2.0]]])\n",
    "print('x')\n",
    "print(x)\n",
    "print()\n",
    "\n",
    "argmax = DifferentiableArgmax() (x)\n",
    "print('argmax')\n",
    "print(argmax[1])"
   ]
  },
  {
   "cell_type": "markdown",
   "metadata": {},
   "source": [
    "#### Decision test"
   ]
  },
  {
   "cell_type": "code",
   "execution_count": 8,
   "metadata": {},
   "outputs": [
    {
     "name": "stdout",
     "output_type": "stream",
     "text": [
      "x\n",
      "tf.Tensor([0. 0. 0. 0.], shape=(4,), dtype=float32)\n",
      "\n",
      "argmax\n",
      "tf.Tensor([0.5], shape=(1,), dtype=float32)\n"
     ]
    }
   ],
   "source": [
    "x = tf.constant([0., 0., 0., 0.])\n",
    "print('x')\n",
    "print(x)\n",
    "print()\n",
    "\n",
    "argmax = DifferentiableArgmax() (x)\n",
    "print('argmax')\n",
    "print(argmax[1])"
   ]
  },
  {
   "cell_type": "code",
   "execution_count": 9,
   "metadata": {},
   "outputs": [
    {
     "name": "stdout",
     "output_type": "stream",
     "text": [
      "x\n",
      "tf.Tensor([0.e+00 1.e-06 0.e+00 0.e+00], shape=(4,), dtype=float32)\n",
      "tf.Tensor([0.e+00 1.e-05 0.e+00 0.e+00], shape=(4,), dtype=float32)\n",
      "tf.Tensor([0.e+00 1.e-04 0.e+00 0.e+00], shape=(4,), dtype=float32)\n",
      "tf.Tensor([0.    0.001 0.    0.   ], shape=(4,), dtype=float32)\n",
      "\n",
      "argmax\n",
      "tf.Tensor([0.6425544], shape=(1,), dtype=float32)\n",
      "tf.Tensor([0.9999105], shape=(1,), dtype=float32)\n",
      "tf.Tensor([1.], shape=(1,), dtype=float32)\n",
      "tf.Tensor([1.], shape=(1,), dtype=float32)\n"
     ]
    }
   ],
   "source": [
    "x0 = tf.constant([0., 0.000001, 0, 0.])\n",
    "x1 = tf.constant([0., 0.00001, 0, 0.])\n",
    "x2 = tf.constant([0., 0.0001, 0, 0.])\n",
    "x3 = tf.constant([0., 0.001, 0, 0.])\n",
    "print('x')\n",
    "print(x0)\n",
    "print(x1)\n",
    "print(x2)\n",
    "print(x3)\n",
    "print()\n",
    "\n",
    "argmax0 = DifferentiableArgmax() (x0)\n",
    "argmax1 = DifferentiableArgmax() (x1)\n",
    "argmax2 = DifferentiableArgmax() (x2)\n",
    "argmax3 = DifferentiableArgmax() (x3)\n",
    "print('argmax')\n",
    "print(argmax0[1])\n",
    "print(argmax1[1])\n",
    "print(argmax2[1])\n",
    "print(argmax3[1])"
   ]
  },
  {
   "cell_type": "markdown",
   "metadata": {},
   "source": [
    "#### Extreme value test"
   ]
  },
  {
   "cell_type": "code",
   "execution_count": 10,
   "metadata": {},
   "outputs": [
    {
     "name": "stdout",
     "output_type": "stream",
     "text": [
      "x\n",
      "tf.Tensor([-11. -11. -10. -11.], shape=(4,), dtype=float32)\n",
      "\n",
      "argmax\n",
      "tf.Tensor([2.], shape=(1,), dtype=float32)\n"
     ]
    }
   ],
   "source": [
    "# Minus end of stability\n",
    "x = tf.constant([-11., -11., -10., -11.])\n",
    "print('x')\n",
    "print(x)\n",
    "print()\n",
    "\n",
    "argmax = DifferentiableArgmax() (x)\n",
    "print('argmax')\n",
    "print(argmax[1])"
   ]
  },
  {
   "cell_type": "code",
   "execution_count": 11,
   "metadata": {},
   "outputs": [
    {
     "name": "stdout",
     "output_type": "stream",
     "text": [
      "x\n",
      "tf.Tensor([-11. -12. -12. -12.], shape=(4,), dtype=float32)\n",
      "\n",
      "argmax\n",
      "tf.Tensor([nan], shape=(1,), dtype=float32)\n"
     ]
    }
   ],
   "source": [
    "# Minus begining of instability\n",
    "x = tf.constant([-11., -12., -12., -12.])\n",
    "print('x')\n",
    "print(x)\n",
    "print()\n",
    "\n",
    "argmax = DifferentiableArgmax() (x)\n",
    "print('argmax')\n",
    "print(argmax[1])"
   ]
  },
  {
   "cell_type": "code",
   "execution_count": 12,
   "metadata": {},
   "outputs": [
    {
     "name": "stdout",
     "output_type": "stream",
     "text": [
      "x\n",
      "tf.Tensor([7. 7. 7. 8.], shape=(4,), dtype=float32)\n",
      "\n",
      "argmax\n",
      "tf.Tensor([3.], shape=(1,), dtype=float32)\n"
     ]
    }
   ],
   "source": [
    "# Plus end of stability\n",
    "x = tf.constant([7., 7., 7., 8.])\n",
    "print('x')\n",
    "print(x)\n",
    "print()\n",
    "\n",
    "argmax = DifferentiableArgmax() (x)\n",
    "print('argmax')\n",
    "print(argmax[1])"
   ]
  },
  {
   "cell_type": "code",
   "execution_count": 13,
   "metadata": {},
   "outputs": [
    {
     "name": "stdout",
     "output_type": "stream",
     "text": [
      "x\n",
      "tf.Tensor([8. 8. 8. 9.], shape=(4,), dtype=float32)\n",
      "\n",
      "argmax\n",
      "tf.Tensor([nan], shape=(1,), dtype=float32)\n"
     ]
    }
   ],
   "source": [
    "# Plus begining of instability\n",
    "x = tf.constant([8., 8., 8., 9.])\n",
    "print('x')\n",
    "print(x)\n",
    "print()\n",
    "\n",
    "argmax = DifferentiableArgmax() (x)\n",
    "print('argmax')\n",
    "print(argmax[1])"
   ]
  }
 ],
 "metadata": {
  "kernelspec": {
   "display_name": "Python 3",
   "language": "python",
   "name": "python3"
  },
  "language_info": {
   "codemirror_mode": {
    "name": "ipython",
    "version": 3
   },
   "file_extension": ".py",
   "mimetype": "text/x-python",
   "name": "python",
   "nbconvert_exporter": "python",
   "pygments_lexer": "ipython3",
   "version": "3.6.10"
  }
 },
 "nbformat": 4,
 "nbformat_minor": 4
}
