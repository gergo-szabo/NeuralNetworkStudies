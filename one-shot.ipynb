{
 "cells": [
  {
   "cell_type": "code",
   "execution_count": 1,
   "metadata": {},
   "outputs": [],
   "source": [
    "# Useful tools for one-shot learning"
   ]
  },
  {
   "cell_type": "code",
   "execution_count": 2,
   "metadata": {},
   "outputs": [
    {
     "name": "stdout",
     "output_type": "stream",
     "text": [
      "2.1.0\n",
      "0.9.1\n"
     ]
    }
   ],
   "source": [
    "from itertools import combinations \n",
    "import numpy as np\n",
    "import tensorflow as tf\n",
    "from tensorflow.keras.layers import Input, Dense, Dropout, Activation, Lambda\n",
    "from tensorflow.keras.models import Model\n",
    "import tensorflow.keras.backend as K\n",
    "print(tf.__version__)\n",
    "import tensorflow_addons as tfa\n",
    "print(tfa.__version__)"
   ]
  },
  {
   "cell_type": "code",
   "execution_count": 3,
   "metadata": {},
   "outputs": [
    {
     "name": "stdout",
     "output_type": "stream",
     "text": [
      "[0 1 2 3 4]\n"
     ]
    }
   ],
   "source": [
    "# Dummy data\n",
    "data = [10, 20, 30, 40, 50]\n",
    "labels = [0, 0, 1, 2, 2]\n",
    "id_list = np.arange(len(data))\n",
    "\n",
    "print(id_list)"
   ]
  },
  {
   "cell_type": "code",
   "execution_count": 4,
   "metadata": {},
   "outputs": [
    {
     "name": "stdout",
     "output_type": "stream",
     "text": [
      "Total number of data pairs: 10\n",
      "\n",
      "[(0, 1), (0, 2), (0, 3), (0, 4), (1, 2), (1, 3), (1, 4), (2, 3), (2, 4), (3, 4)]\n",
      "\n",
      "[0 1 2 3 4 5 6 7 8 9]\n"
     ]
    }
   ],
   "source": [
    "# Generate data id pairs and pair ids\n",
    "id_pair_list = list(combinations(id_list, 2))\n",
    "print('Total number of data pairs:', len(id_pair_list))\n",
    "id_pair_id_list = np.arange(len(id_pair_list))\n",
    "\n",
    "print()\n",
    "print(id_pair_list)\n",
    "print()\n",
    "print(id_pair_id_list)"
   ]
  },
  {
   "cell_type": "code",
   "execution_count": 5,
   "metadata": {},
   "outputs": [],
   "source": [
    "# Distances\n",
    "def manhattan_distance(vects):\n",
    "    # L1 distance\n",
    "    x, y = vects\n",
    "    mhd = K.sum(K.abs(x - y), axis=1, keepdims=True)\n",
    "    return mhd\n",
    "\n",
    "def exp_manhattan_distance(vects):\n",
    "    # L1 distance with an exponential twist\n",
    "    x, y = vects\n",
    "    exp_mhd = K.exp(-K.sum(K.abs(x - y), axis=1, keepdims=True))\n",
    "    return exp_mhd\n",
    "\n",
    "def euclidean_distance(vects):\n",
    "    # L2 distance\n",
    "    x, y = vects\n",
    "    sum_square = K.sum(K.square(x - y), axis=1, keepdims=True)\n",
    "    ecd = K.sqrt(K.maximum(sum_square, K.epsilon()))\n",
    "    return ecd\n",
    "\n",
    "def cosine_distance(vects):\n",
    "    # Cosine distance\n",
    "    # similarity = cos(theta) = (x*y) / (sprt(sum(xi*xi))*sprt(sum(yi*yi)))\n",
    "    x, y = vects\n",
    "    x = K.l2_normalize(x, axis=-1) # x / sprt(sum(xi*xi))\n",
    "    y = K.l2_normalize(y, axis=-1) # y / sprt(sum(yi*yi))\n",
    "    cd = -K.sum(x * y, axis=-1, keepdims=True)\n",
    "    return cd\n",
    "    #return 1 - cd"
   ]
  },
  {
   "cell_type": "code",
   "execution_count": 6,
   "metadata": {},
   "outputs": [
    {
     "name": "stdout",
     "output_type": "stream",
     "text": [
      "Model: \"shared_model\"\n",
      "_________________________________________________________________\n",
      "Layer (type)                 Output Shape              Param #   \n",
      "=================================================================\n",
      "data (InputLayer)            [(None, 1)]               0         \n",
      "_________________________________________________________________\n",
      "1st_dense (Dense)            (None, 10)                20        \n",
      "_________________________________________________________________\n",
      "1st_dropout (Dropout)        (None, 10)                0         \n",
      "_________________________________________________________________\n",
      "1st_activation (Activation)  (None, 10)                0         \n",
      "_________________________________________________________________\n",
      "last_dense (Dense)           (None, 4)                 44        \n",
      "_________________________________________________________________\n",
      "shared_output (Activation)   (None, 4)                 0         \n",
      "=================================================================\n",
      "Total params: 64\n",
      "Trainable params: 64\n",
      "Non-trainable params: 0\n",
      "_________________________________________________________________\n",
      "Model: \"model\"\n",
      "__________________________________________________________________________________________________\n",
      "Layer (type)                    Output Shape         Param #     Connected to                     \n",
      "==================================================================================================\n",
      "input_siam_a (InputLayer)       [(None, 1)]          0                                            \n",
      "__________________________________________________________________________________________________\n",
      "input_siam_b (InputLayer)       [(None, 1)]          0                                            \n",
      "__________________________________________________________________________________________________\n",
      "shared_model (Model)            (None, 4)            64          input_siam_a[0][0]               \n",
      "                                                                 input_siam_b[0][0]               \n",
      "__________________________________________________________________________________________________\n",
      "distance_layer (Lambda)         (None, 1)            0           shared_model[1][0]               \n",
      "                                                                 shared_model[2][0]               \n",
      "==================================================================================================\n",
      "Total params: 64\n",
      "Trainable params: 64\n",
      "Non-trainable params: 0\n",
      "__________________________________________________________________________________________________\n"
     ]
    }
   ],
   "source": [
    "# Siamese model\n",
    "def create_model(data_shape, drop_rate=0.0, activation='relu', loss='mse', optimizer='adam'): \n",
    "    input0 = Input(shape=data_shape, name='data')\n",
    "    \n",
    "    dense0 = Dense(10, activation=None, name='1st_dense') (input0)\n",
    "    drop0 = Dropout(drop_rate, name='1st_dropout') (dense0)\n",
    "    act0 = Activation(activation, name='1st_activation') (drop0)\n",
    "  \n",
    "    dense1 = Dense(4, activation=None, name='last_dense') (act0)\n",
    "    act1 = Activation(activation, name='shared_output') (dense1)\n",
    "  \n",
    "    shared_model = Model(inputs=input0, outputs=act1, name='shared_model')\n",
    "    shared_model.summary()\n",
    "  \n",
    "    ##############\n",
    "  \n",
    "    input_siam_a = Input(shape=data_shape, name='input_siam_a')\n",
    "    input_siam_b = Input(shape=data_shape, name='input_siam_b')\n",
    "  \n",
    "    model_a = shared_model(input_siam_a)\n",
    "    model_b = shared_model(input_siam_b)\n",
    "\n",
    "    #dist_layer = Lambda(manhattan_distance, name='distance_layer') ([model_a, model_b])\n",
    "    #dist_layer = Lambda(exp_manhattan_distance, name='distance_layer') ([model_a, model_b])\n",
    "    #dist_layer = Lambda(euclidean_distance, name='distance_layer') ([model_a, model_b])\n",
    "    dist_layer = Lambda(cosine_distance, name='distance_layer') ([model_a, model_b])\n",
    "  \n",
    "    model = Model(inputs=[input_siam_a, input_siam_b], outputs=dist_layer)\n",
    "  \n",
    "    model.compile(loss=loss, optimizer=optimizer)\n",
    "  \n",
    "    return model\n",
    "\n",
    "# Activations\n",
    "relu = 'relu'\n",
    "mish = tfa.activations.mish\n",
    "\n",
    "# Losses\n",
    "cl = tfa.losses.ContrastiveLoss(margin=1)\n",
    "\n",
    "# Optimizers\n",
    "adam = 'adam'\n",
    "radam = tfa.optimizers.RectifiedAdam()\n",
    "ranger = tfa.optimizers.Lookahead(radam, sync_period=6, slow_step_size=0.5)\n",
    "\n",
    "# Create model\n",
    "model = create_model(data_shape=(1),\n",
    "                     drop_rate=0,\n",
    "                     activation=relu,\n",
    "                     loss=cl,\n",
    "                     optimizer=adam)\n",
    "model.summary()"
   ]
  }
 ],
 "metadata": {
  "kernelspec": {
   "display_name": "Python 3",
   "language": "python",
   "name": "python3"
  },
  "language_info": {
   "codemirror_mode": {
    "name": "ipython",
    "version": 3
   },
   "file_extension": ".py",
   "mimetype": "text/x-python",
   "name": "python",
   "nbconvert_exporter": "python",
   "pygments_lexer": "ipython3",
   "version": "3.6.10"
  }
 },
 "nbformat": 4,
 "nbformat_minor": 4
}
