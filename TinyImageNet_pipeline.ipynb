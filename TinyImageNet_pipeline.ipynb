{
 "cells": [
  {
   "cell_type": "markdown",
   "metadata": {},
   "source": [
    "## Tiny ImageNet pipeline\n",
    "https://tiny-imagenet.herokuapp.com/"
   ]
  },
  {
   "cell_type": "code",
   "execution_count": null,
   "metadata": {},
   "outputs": [],
   "source": [
    "import zipfile\n",
    "import numpy as np\n",
    "import pandas as pd\n",
    "import tensorflow as tf"
   ]
  },
  {
   "cell_type": "code",
   "execution_count": null,
   "metadata": {},
   "outputs": [],
   "source": [
    "# Get data"
   ]
  },
  {
   "cell_type": "code",
   "execution_count": null,
   "metadata": {},
   "outputs": [],
   "source": [
    "# Unzip tinyimagenet\n",
    "path_to_zip_file = './drive/My Drive/inyimgnet.zip'\n",
    "with zipfile.ZipFile(path_to_zip_file, 'r') as zip_ref:\n",
    "    zip_ref.extractall('')\n",
    "\n",
    "# Get path to images\n",
    "path_to_train = 'tiny-imagenet-200/train/*/images/*'\n",
    "path_to_valid = 'tiny-imagenet-200/val/images/*'\n",
    "\n",
    "train_list_ds = tf.data.Dataset.list_files(path_to_train)\n",
    "valid_list_ds = tf.data.Dataset.list_files(path_to_valid)\n",
    "\n",
    "#for f in train_list_ds.take(3):\n",
    "#  print(f.numpy())\n",
    "#for f in valid_list_ds.take(3):\n",
    "#  print(f.numpy())"
   ]
  },
  {
   "cell_type": "code",
   "execution_count": null,
   "metadata": {},
   "outputs": [],
   "source": [
    "# Precalculated mean and std\n",
    "#mean, std = [0.480, 0.448, 0.397], [0.276, 0.269, 0.282]"
   ]
  },
  {
   "cell_type": "code",
   "execution_count": null,
   "metadata": {},
   "outputs": [],
   "source": [
    "# Load data\n",
    "# Train\n",
    "def preproc_train(file_path):\n",
    "    # Get interim label (filenames or class names)\n",
    "    label = tf.strings.split(file_path, '/')[-3]\n",
    "\n",
    "    # Get image\n",
    "    img = tf.io.read_file(file_path)\n",
    "    img = tf.image.decode_image(img, channels=3)\n",
    "\n",
    "    # Flip horizontally randomly\n",
    "    img = tf.image.random_flip_left_right(img)\n",
    "\n",
    "    # Color changes\n",
    "    img = tf.image.random_brightness(img, max_delta=0.1)\n",
    "    img = tf.image.random_contrast(img, lower=0.9, upper=1.1)\n",
    "    img = tf.image.random_saturation(img, lower=0.9, upper=1.1)\n",
    "    img = tf.image.random_hue(img, max_delta=0.1)\n",
    "    if tf.random.uniform(()) > 0.8:\n",
    "        img = tf.image.rgb_to_grayscale(img)\n",
    "        img = tf.image.grayscale_to_rgb(img)\n",
    "\n",
    "    # Normalize images (0..1 range)\n",
    "    img = tf.cast(img, tf.float32) / 255.\n",
    "\n",
    "    # Random crop after padding\n",
    "    img = tf.image.pad_to_bounding_box(img, 4, 4, 72, 72)\n",
    "    img = tf.image.random_crop(img, size=[64,64,3])\n",
    "\n",
    "    return img, label\n",
    "train = train_list_ds.map(preproc_train, num_parallel_calls=tf.data.experimental.AUTOTUNE)\n",
    "\n",
    "# Validation\n",
    "def preproc_valid(file_path):\n",
    "    # Get interim label (filenames or class names)\n",
    "    label = tf.strings.split(file_path, '/')[-1]\n",
    "\n",
    "    # Get image\n",
    "    img = tf.io.read_file(file_path)\n",
    "    img = tf.image.decode_image(img, channels=3)\n",
    "\n",
    "    # Normalize images (0..1 range)\n",
    "    img = tf.cast(img, tf.float32) / 255.\n",
    "\n",
    "    return img, label\n",
    "valid = valid_list_ds.map(preproc_valid, num_parallel_calls=tf.data.experimental.AUTOTUNE)"
   ]
  },
  {
   "cell_type": "code",
   "execution_count": null,
   "metadata": {},
   "outputs": [],
   "source": [
    "# Decode interim labels (filenames or class names)\n",
    "# Helper variables\n",
    "val_label_df = pd.read_csv('tiny-imagenet-200/val/val_annotations.txt', sep='\\t', header=None)\n",
    "val_name_to_label_dict = dict(val_label_df[[0,1]].values)\n",
    "label_dict = dict(zip(val_label_df[1].unique(), np.arange(200)))\n",
    "\n",
    "# Train set\n",
    "def train_label(filename):\n",
    "    label_str = filename.numpy().decode()\n",
    "    return [label_dict[label_str]]\n",
    "def train_label_encode(img, filename):\n",
    "    [y,] = tf.py_function(train_label, [filename], [tf.float32])\n",
    "    y.set_shape([])\n",
    "    return img, y\n",
    "train = train.map(train_label_encode, num_parallel_calls=tf.data.experimental.AUTOTUNE)\n",
    "\n",
    "# Validation set\n",
    "def valid_label(filename):\n",
    "    filename_str = filename.numpy().decode()\n",
    "    label_str = val_name_to_label_dict[filename_str]\n",
    "    return [label_dict[label_str]]\n",
    "def valid_label_encode(img, filename):\n",
    "    [y,] = tf.py_function(valid_label, [filename], [tf.float32])\n",
    "    y.set_shape([])\n",
    "    return img, y\n",
    "valid = valid.map(valid_label_encode, num_parallel_calls=tf.data.experimental.AUTOTUNE)"
   ]
  },
  {
   "cell_type": "code",
   "execution_count": null,
   "metadata": {},
   "outputs": [],
   "source": [
    "train = train.batch(batch_size)\n",
    "valid = valid.batch(batch_size)"
   ]
  }
 ],
 "metadata": {
  "kernelspec": {
   "display_name": "Python 3",
   "language": "python",
   "name": "python3"
  },
  "language_info": {
   "codemirror_mode": {
    "name": "ipython",
    "version": 3
   },
   "file_extension": ".py",
   "mimetype": "text/x-python",
   "name": "python",
   "nbconvert_exporter": "python",
   "pygments_lexer": "ipython3",
   "version": "3.6.10"
  }
 },
 "nbformat": 4,
 "nbformat_minor": 4
}
